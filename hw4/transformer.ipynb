{
 "cells": [
  {
   "cell_type": "code",
   "id": "initial_id",
   "metadata": {
    "collapsed": true,
    "ExecuteTime": {
     "end_time": "2025-06-08T13:36:44.936124Z",
     "start_time": "2025-06-08T13:36:42.765828Z"
    }
   },
   "source": [
    "import warnings\n",
    "import torch\n",
    "from transformers import BertTokenizerFast\n",
    "from torch.utils.data import DataLoader\n",
    "from torch.optim import AdamW\n",
    "import matplotlib.pyplot as plt\n",
    "import torch.nn as nn\n",
    "import pandas as pd\n",
    "from sklearn.metrics import accuracy_score\n",
    "from torch.utils.data import Dataset\n",
    "import numpy as np"
   ],
   "outputs": [],
   "execution_count": 1
  },
  {
   "metadata": {
    "ExecuteTime": {
     "end_time": "2025-06-08T13:36:45.428538Z",
     "start_time": "2025-06-08T13:36:45.331339Z"
    }
   },
   "cell_type": "code",
   "source": [
    "df_train = pd.read_csv('data/twitter_training.csv', header=None, names=[\"id\", \"company\", \"sentiment\", \"text\"])\n",
    "df_val = pd.read_csv('data/twitter_validation.csv', header=None, names=[\"id\", \"company\", \"sentiment\", \"text\"])\n",
    "print(len(df_train), len(df_val))\n",
    "df_val.head()"
   ],
   "id": "6c885d40c091fa15",
   "outputs": [
    {
     "name": "stdout",
     "output_type": "stream",
     "text": [
      "74682 1000\n"
     ]
    },
    {
     "data": {
      "text/plain": [
       "     id    company   sentiment  \\\n",
       "0  3364   Facebook  Irrelevant   \n",
       "1   352     Amazon     Neutral   \n",
       "2  8312  Microsoft    Negative   \n",
       "3  4371      CS-GO    Negative   \n",
       "4  4433     Google     Neutral   \n",
       "\n",
       "                                                text  \n",
       "0  I mentioned on Facebook that I was struggling ...  \n",
       "1  BBC News - Amazon boss Jeff Bezos rejects clai...  \n",
       "2  @Microsoft Why do I pay for WORD when it funct...  \n",
       "3  CSGO matchmaking is so full of closet hacking,...  \n",
       "4  Now the President is slapping Americans in the...  "
      ],
      "text/html": [
       "<div>\n",
       "<style scoped>\n",
       "    .dataframe tbody tr th:only-of-type {\n",
       "        vertical-align: middle;\n",
       "    }\n",
       "\n",
       "    .dataframe tbody tr th {\n",
       "        vertical-align: top;\n",
       "    }\n",
       "\n",
       "    .dataframe thead th {\n",
       "        text-align: right;\n",
       "    }\n",
       "</style>\n",
       "<table border=\"1\" class=\"dataframe\">\n",
       "  <thead>\n",
       "    <tr style=\"text-align: right;\">\n",
       "      <th></th>\n",
       "      <th>id</th>\n",
       "      <th>company</th>\n",
       "      <th>sentiment</th>\n",
       "      <th>text</th>\n",
       "    </tr>\n",
       "  </thead>\n",
       "  <tbody>\n",
       "    <tr>\n",
       "      <th>0</th>\n",
       "      <td>3364</td>\n",
       "      <td>Facebook</td>\n",
       "      <td>Irrelevant</td>\n",
       "      <td>I mentioned on Facebook that I was struggling ...</td>\n",
       "    </tr>\n",
       "    <tr>\n",
       "      <th>1</th>\n",
       "      <td>352</td>\n",
       "      <td>Amazon</td>\n",
       "      <td>Neutral</td>\n",
       "      <td>BBC News - Amazon boss Jeff Bezos rejects clai...</td>\n",
       "    </tr>\n",
       "    <tr>\n",
       "      <th>2</th>\n",
       "      <td>8312</td>\n",
       "      <td>Microsoft</td>\n",
       "      <td>Negative</td>\n",
       "      <td>@Microsoft Why do I pay for WORD when it funct...</td>\n",
       "    </tr>\n",
       "    <tr>\n",
       "      <th>3</th>\n",
       "      <td>4371</td>\n",
       "      <td>CS-GO</td>\n",
       "      <td>Negative</td>\n",
       "      <td>CSGO matchmaking is so full of closet hacking,...</td>\n",
       "    </tr>\n",
       "    <tr>\n",
       "      <th>4</th>\n",
       "      <td>4433</td>\n",
       "      <td>Google</td>\n",
       "      <td>Neutral</td>\n",
       "      <td>Now the President is slapping Americans in the...</td>\n",
       "    </tr>\n",
       "  </tbody>\n",
       "</table>\n",
       "</div>"
      ]
     },
     "execution_count": 2,
     "metadata": {},
     "output_type": "execute_result"
    }
   ],
   "execution_count": 2
  },
  {
   "metadata": {
    "ExecuteTime": {
     "end_time": "2025-06-08T13:36:45.637068Z",
     "start_time": "2025-06-08T13:36:45.625006Z"
    }
   },
   "cell_type": "code",
   "source": [
    "valid_sentiments = {\"Negative\", \"Neutral\", \"Positive\"}\n",
    "\n",
    "df_train = df_train[df_train[\"sentiment\"].isin(valid_sentiments)]\n",
    "df_val = df_val[df_val[\"sentiment\"].isin(valid_sentiments)]\n",
    "\n",
    "label_map = {\"Negative\": 0, \"Neutral\": 1, \"Positive\": 2}\n",
    "df_train[\"label\"] = df_train[\"sentiment\"].map(label_map).astype(int)\n",
    "df_val[\"label\"] = df_val[\"sentiment\"].map(label_map).astype(int)\n",
    "\n",
    "df_train[\"text\"] = df_train[\"text\"].astype(str)\n",
    "df_val[\"text\"] = df_val[\"text\"].astype(str)"
   ],
   "id": "5de5ec4ddaf73565",
   "outputs": [],
   "execution_count": 3
  },
  {
   "metadata": {
    "ExecuteTime": {
     "end_time": "2025-06-08T13:36:46.334596Z",
     "start_time": "2025-06-08T13:36:45.783701Z"
    }
   },
   "cell_type": "code",
   "source": "tokenizer = BertTokenizerFast.from_pretrained(\"bert-base-uncased\")",
   "id": "7f103ce56b9bdbe3",
   "outputs": [],
   "execution_count": 4
  },
  {
   "metadata": {
    "ExecuteTime": {
     "end_time": "2025-06-08T13:36:50.426623Z",
     "start_time": "2025-06-08T13:36:46.498237Z"
    }
   },
   "cell_type": "code",
   "source": [
    "lengths = [len(tokenizer.encode(text, truncation=False)) for text in df_train[\"text\"]]\n",
    "\n",
    "plt.hist(lengths, bins=50)\n",
    "plt.title(\"Tokenized text lengths\")\n",
    "plt.xlabel(\"Number of tokens\")\n",
    "plt.ylabel(\"Number of samples\")\n",
    "plt.show()\n",
    "\n",
    "print(\"Mean:\", np.mean(lengths))\n",
    "print(\"95-percentile:\", np.percentile(lengths, 95))\n",
    "print(\"Max:\", np.max(lengths))"
   ],
   "id": "580c43252502f6f1",
   "outputs": [
    {
     "data": {
      "text/plain": [
       "<Figure size 640x480 with 1 Axes>"
      ],
      "image/png": "[encoded data removed]"
     },
     "metadata": {},
     "output_type": "display_data"
    },
    {
     "name": "stdout",
     "output_type": "stream",
     "text": [
      "Mean: 30.707757894054335\n",
      "95-percentile: 72.0\n",
      "Max: 315\n"
     ]
    }
   ],
   "execution_count": 5
  },
  {
   "metadata": {
    "ExecuteTime": {
     "end_time": "2025-06-08T13:36:52.146095Z",
     "start_time": "2025-06-08T13:36:50.839193Z"
    }
   },
   "cell_type": "code",
   "source": [
    "SEQ_LENGTH = 64\n",
    "\n",
    "train_encodings = tokenizer(df_train[\"text\"].tolist(),padding=True,truncation=True,max_length=SEQ_LENGTH,return_tensors=None)\n",
    "\n",
    "val_encodings = tokenizer(df_val[\"text\"].tolist(),padding=True,truncation=True,max_length=SEQ_LENGTH,return_tensors=None)"
   ],
   "id": "3b4bbf156492e3c0",
   "outputs": [],
   "execution_count": 6
  },
  {
   "metadata": {
    "ExecuteTime": {
     "end_time": "2025-06-08T13:36:52.211419Z",
     "start_time": "2025-06-08T13:36:52.206500Z"
    }
   },
   "cell_type": "code",
   "source": [
    "class SentimentTransformer(nn.Module):\n",
    "    def __init__(self,vocab_size,num_classes=3,seq_len=SEQ_LENGTH,hidden_dim=128,num_heads=4,num_layers=2,dropout=0.3):\n",
    "        super().__init__()\n",
    "        self.embedding = nn.Embedding(vocab_size, hidden_dim)\n",
    "        self.positional_encoding = nn.Parameter(torch.zeros(1, seq_len, hidden_dim))\n",
    "\n",
    "        self.encoder_layers = nn.ModuleList([\n",
    "            nn.TransformerEncoderLayer(\n",
    "                d_model=hidden_dim,\n",
    "                nhead=num_heads,\n",
    "                dim_feedforward=hidden_dim * 2,\n",
    "                dropout=dropout,\n",
    "                batch_first=True\n",
    "            )\n",
    "            for _ in range(num_layers)\n",
    "        ])\n",
    "\n",
    "        self.norm = nn.LayerNorm(hidden_dim)\n",
    "        self.dropout = nn.Dropout(dropout)\n",
    "        self.classifier = nn.Linear(hidden_dim, num_classes)\n",
    "\n",
    "        self.attention_weights = []\n",
    "\n",
    "    def forward(self, input_ids, attention_mask=None):\n",
    "        x = self.embedding(input_ids) + self.positional_encoding[:, :input_ids.size(1), :]\n",
    "        self.attention_weights.clear()\n",
    "\n",
    "        if attention_mask is not None:\n",
    "            key_padding_mask = attention_mask == 0\n",
    "        else:\n",
    "            key_padding_mask = None\n",
    "\n",
    "        for layer in self.encoder_layers:\n",
    "            attn_output, attn_weights = layer.self_attn(\n",
    "                x, x, x,\n",
    "                key_padding_mask=key_padding_mask,\n",
    "                need_weights=True,\n",
    "                attn_mask=None,\n",
    "                average_attn_weights=False\n",
    "            )\n",
    "            self.attention_weights.append(attn_weights)\n",
    "            x = layer.dropout1(attn_output + x)\n",
    "            x = layer.norm1(x)\n",
    "            x2 = layer.linear2(layer.dropout(layer.activation(layer.linear1(x))))\n",
    "            x = layer.dropout2(x2 + x)\n",
    "            x = layer.norm2(x)\n",
    "\n",
    "        x = self.norm(x)\n",
    "        x = x.mean(dim=1)  # Mean pooling\n",
    "        x = self.dropout(x)\n",
    "        return self.classifier(x)\n",
    "\n",
    "class TwitterSentimentDataset(Dataset):\n",
    "    def __init__(self, encodings, labels):\n",
    "        self.encodings = encodings\n",
    "        self.labels = labels\n",
    "\n",
    "    def __getitem__(self, idx):\n",
    "        return {\n",
    "            \"input_ids\": torch.tensor(self.encodings[\"input_ids\"][idx]),\n",
    "            \"attention_mask\": torch.tensor(self.encodings[\"attention_mask\"][idx]),\n",
    "            \"labels\": torch.tensor(self.labels[idx])\n",
    "        }\n",
    "\n",
    "    def __len__(self):\n",
    "        return len(self.labels)"
   ],
   "id": "f29c194140880ff2",
   "outputs": [],
   "execution_count": 7
  },
  {
   "metadata": {
    "ExecuteTime": {
     "end_time": "2025-06-08T13:39:31.387261Z",
     "start_time": "2025-06-08T13:37:10.939035Z"
    }
   },
   "cell_type": "code",
   "source": [
    "train_labels = df_train[\"label\"].tolist()\n",
    "train_dataset = TwitterSentimentDataset(train_encodings, train_labels)\n",
    "train_loader = DataLoader(train_dataset, batch_size=32, shuffle=True)\n",
    "\n",
    "val_labels = df_val[\"label\"].tolist()\n",
    "val_dataset = TwitterSentimentDataset(val_encodings, val_labels)\n",
    "val_loader = DataLoader(val_dataset, batch_size=32)\n",
    "\n",
    "warnings.filterwarnings(\"ignore\", category=UserWarning)\n",
    "\n",
    "device = torch.device(\"cuda\" if torch.cuda.is_available() else \"cpu\")\n",
    "model = SentimentTransformer(vocab_size=tokenizer.vocab_size,num_classes=3).to(device)\n",
    "\n",
    "optimizer = AdamW(model.parameters(), lr=1e-3)\n",
    "criterion = nn.CrossEntropyLoss()\n",
    "\n",
    "epochs = 15\n",
    "\n",
    "for epoch in range(epochs):\n",
    "    model.train()\n",
    "    total_loss = 0\n",
    "    all_preds, all_labels = [], []\n",
    "\n",
    "    for batch in train_loader:\n",
    "        input_ids = batch[\"input_ids\"].to(device)\n",
    "        attention_mask = batch[\"attention_mask\"].to(device)\n",
    "        labels = batch[\"labels\"].to(device)\n",
    "\n",
    "        logits = model(input_ids, attention_mask)\n",
    "        loss = criterion(logits, labels)\n",
    "\n",
    "        optimizer.zero_grad()\n",
    "        loss.backward()\n",
    "        optimizer.step()\n",
    "\n",
    "        total_loss += loss.item()\n",
    "        preds = torch.argmax(logits, dim=1)\n",
    "        all_preds.extend(preds.cpu().tolist())\n",
    "        all_labels.extend(labels.cpu().tolist())\n",
    "\n",
    "    train_acc = accuracy_score(all_labels, all_preds)\n",
    "    avg_train_loss = total_loss / len(train_loader)\n",
    "\n",
    "    model.eval()\n",
    "    total_loss = 0\n",
    "    all_preds, all_labels = [], []\n",
    "\n",
    "    with torch.no_grad():\n",
    "        for batch in val_loader:\n",
    "            input_ids = batch[\"input_ids\"].to(device)\n",
    "            attention_mask = batch[\"attention_mask\"].to(device)\n",
    "            labels = batch[\"labels\"].to(device)\n",
    "\n",
    "            logits = model(input_ids, attention_mask)\n",
    "            loss = criterion(logits, labels)\n",
    "\n",
    "            total_loss += loss.item()\n",
    "            preds = torch.argmax(logits, dim=1)\n",
    "            all_preds.extend(preds.cpu().tolist())\n",
    "            all_labels.extend(labels.cpu().tolist())\n",
    "\n",
    "    val_acc = accuracy_score(all_labels, all_preds)\n",
    "    avg_val_loss = total_loss / len(val_loader)\n",
    "    print(f\"\\nEpoch {epoch + 1}/{epochs} - Train Loss: {avg_train_loss:.4f} | Val Accuracy: {val_acc:.4f}\")"
   ],
   "id": "9a26e24e5569c0ee",
   "outputs": [
    {
     "name": "stdout",
     "output_type": "stream",
     "text": [
      "\n",
      "Epoch 1/15 - Train Loss: 0.7760 | Val Accuracy: 0.7911\n",
      "\n",
      "Epoch 2/15 - Train Loss: 0.4898 | Val Accuracy: 0.8925\n",
      "\n",
      "Epoch 3/15 - Train Loss: 0.3236 | Val Accuracy: 0.9287\n",
      "\n",
      "Epoch 4/15 - Train Loss: 0.2396 | Val Accuracy: 0.9336\n",
      "\n",
      "Epoch 5/15 - Train Loss: 0.1936 | Val Accuracy: 0.9336\n",
      "\n",
      "Epoch 6/15 - Train Loss: 0.1645 | Val Accuracy: 0.9360\n",
      "\n",
      "Epoch 7/15 - Train Loss: 0.1455 | Val Accuracy: 0.9589\n",
      "\n",
      "Epoch 8/15 - Train Loss: 0.1288 | Val Accuracy: 0.9360\n",
      "\n",
      "Epoch 9/15 - Train Loss: 0.1200 | Val Accuracy: 0.9408\n",
      "\n",
      "Epoch 10/15 - Train Loss: 0.1105 | Val Accuracy: 0.9432\n",
      "\n",
      "Epoch 11/15 - Train Loss: 0.1032 | Val Accuracy: 0.9505\n",
      "\n",
      "Epoch 12/15 - Train Loss: 0.1008 | Val Accuracy: 0.9457\n",
      "\n",
      "Epoch 13/15 - Train Loss: 0.0956 | Val Accuracy: 0.9541\n",
      "\n",
      "Epoch 14/15 - Train Loss: 0.0920 | Val Accuracy: 0.9360\n",
      "\n",
      "Epoch 15/15 - Train Loss: 0.0890 | Val Accuracy: 0.9300\n"
     ]
    }
   ],
   "execution_count": 9
  },
  {
   "metadata": {
    "ExecuteTime": {
     "end_time": "2025-06-08T13:39:34.820369Z",
     "start_time": "2025-06-08T13:39:34.817776Z"
    }
   },
   "cell_type": "code",
   "source": [
    "def plot_attention_weights(attention_weights, layer_idx, seq_len=None):\n",
    "    attn = attention_weights[layer_idx][0]\n",
    "    attn = attn.mean(dim=0).detach().cpu().numpy()\n",
    "\n",
    "    if seq_len is not None:\n",
    "        attn = attn[:seq_len, :seq_len]\n",
    "\n",
    "    plt.figure(figsize=(8, 6))\n",
    "    plt.imshow(attn, cmap=\"viridis\", aspect=\"auto\")\n",
    "    plt.colorbar()\n",
    "    plt.title(f\"Attention Weights\")\n",
    "    plt.xlabel(\"Key Positions\")\n",
    "    plt.ylabel(\"Query Positions\")\n",
    "    plt.show()"
   ],
   "id": "b8b4bcca05e32bd0",
   "outputs": [],
   "execution_count": 10
  },
  {
   "metadata": {
    "ExecuteTime": {
     "end_time": "2025-06-08T13:39:37.024198Z",
     "start_time": "2025-06-08T13:39:36.929987Z"
    }
   },
   "cell_type": "code",
   "source": [
    "num_plots = 1\n",
    "num_layers = len(model.attention_weights)\n",
    "layers_to_plot = np.linspace(0, num_layers - 1, num_plots, dtype=int)\n",
    "\n",
    "for layer_idx in layers_to_plot:\n",
    "    plot_attention_weights(model.attention_weights, layer_idx)"
   ],
   "id": "70f9b2e40aa9869c",
   "outputs": [
    {
     "data": {
      "text/plain": [
       "<Figure size 800x600 with 2 Axes>"
      ],
      "image/png": "[encoded data removed]"
     },
     "metadata": {},
     "output_type": "display_data"
    }
   ],
   "execution_count": 11
  },
  {
   "metadata": {},
   "cell_type": "markdown",
   "source": [
    "# Summary\n",
    "\n",
    "We,ve used BERT-tokenizer that performs subword tokenization. The heatmap illustrates that the model uses first 10-20 tokens. This seems viable as people tend to place the \"summary\" in first sentences. Note that we are dealing with twitter comments, which do not have any introductions."
   ],
   "id": "134c9862b143d995"
  }
 ],
 "metadata": {
  "kernelspec": {
   "display_name": "Python 3 (ipykernel)",
   "language": "python",
   "name": "python3"
  },
  "language_info": {
   "codemirror_mode": {
    "name": "ipython",
    "version": 2
   },
   "file_extension": ".py",
   "mimetype": "text/x-python",
   "name": "python",
   "nbconvert_exporter": "python",
   "pygments_lexer": "ipython2",
   "version": "2.7.6"
  }
 },
 "nbformat": 4,
 "nbformat_minor": 5
}
